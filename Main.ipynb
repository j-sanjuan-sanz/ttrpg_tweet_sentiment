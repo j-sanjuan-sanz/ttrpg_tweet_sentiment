{
 "cells": [
  {
   "cell_type": "markdown",
   "id": "40ac11eb",
   "metadata": {},
   "source": [
    "Importing libraries"
   ]
  },
  {
   "cell_type": "code",
   "execution_count": 1,
   "id": "20aee418",
   "metadata": {},
   "outputs": [],
   "source": [
    "# Data management libraries\n",
    "import pandas as pd\n",
    "import numpy as np\n",
    "import re\n",
    "\n",
    "# Tweet extraction and processing\n",
    "import tweepy\n",
    "import emoji\n",
    "\n",
    "# Natural language Processing\n",
    "import spacy\n",
    "from spacytextblob.spacytextblob import SpacyTextBlob"
   ]
  },
  {
   "cell_type": "markdown",
   "id": "b088852d",
   "metadata": {},
   "source": [
    "Importing variables"
   ]
  },
  {
   "cell_type": "code",
   "execution_count": 2,
   "id": "fe52a800",
   "metadata": {},
   "outputs": [],
   "source": [
    "# Paths\n",
    "PATH_BEARER_TOKEN = 'C:\\\\Users\\\\gl\\\\Desktop\\\\Big Data\\\\TFM\\\\Docs\\\\bearer_token.txt'\n",
    "PATH_TTRPG_EXTRACTION_SPECIFICATIONS = 'C:\\\\Users\\\\gl\\\\Desktop\\\\Big Data\\\\TFM\\\\Docs\\\\ttrpg_extraction_specifications.xlsx'\n",
    "PATH_RESULTING_JSON = 'C:\\\\Users\\\\gl\\\\Desktop\\\\Big Data\\\\TFM\\\\Docs\\\\tweets_with_sentiment.json'\n",
    "\n",
    "# Tables\n",
    "TTRPG_EXTRACTION_SPECIFICATIONS = pd.read_excel(PATH_TTRPG_EXTRACTION_SPECIFICATIONS)\n",
    "\n",
    "# Tweet extraction specifications\n",
    "CONTEXT_INCLUDE = ' (context:66.872578743771963392 OR context:67.1148209264256663552)' # tt gaming, ttrpg games\n",
    "QUERY_SPECIFICATIONS = ' -is:retweet lang:en' + CONTEXT_INCLUDE"
   ]
  },
  {
   "cell_type": "markdown",
   "id": "558e3320",
   "metadata": {},
   "source": [
    "Extraction functions definition"
   ]
  },
  {
   "cell_type": "code",
   "execution_count": 3,
   "id": "e63f5532",
   "metadata": {},
   "outputs": [],
   "source": [
    "def tweet_list_to_DataFrame(tweets_found, TTRPG_info):\n",
    "    if (tweets_found.meta['result_count'] == 0):\n",
    "        return None\n",
    "    public_metric_names = ['retweet_count', 'like_count', 'reply_count', 'quote_count']\n",
    "    tweets = pd.DataFrame()\n",
    "\n",
    "    for tweet in tweets_found.data:\n",
    "        tweet_info = {'id': str(tweet.id), 'text': tweet.text,\n",
    "              'rpg_system': TTRPG_info['rpg_system'],\n",
    "              'setting': TTRPG_info['setting']}\n",
    "        \n",
    "        for metric in public_metric_names:\n",
    "            tweet_info[metric] = tweet.public_metrics[metric]\n",
    "\n",
    "        tweets = tweets.append(tweet_info, ignore_index=True)\n",
    "    \n",
    "    return tweets"
   ]
  },
  {
   "cell_type": "markdown",
   "id": "022daa4d",
   "metadata": {},
   "source": [
    "Tweet processing functions definition"
   ]
  },
  {
   "cell_type": "code",
   "execution_count": 4,
   "id": "862b248f",
   "metadata": {},
   "outputs": [],
   "source": [
    "def clean_tweet_text(tweet_text):\n",
    "    tweet_text = re.sub(r\"(?:\\@|https?\\://)\\S+\", 'mention_or_link',  tweet_text)\n",
    "    tweet_text = re.sub(\"\\n\", \".\",  tweet_text)\n",
    "\n",
    "    banned_words = ['alien', 'basic fantasy role', 'black agents',\n",
    "                   'alice is missing', 'new generation', 'scum and villainy|scum &amp villainy',\n",
    "                   'super heroes', 'unknown armies', 'in the dark|dark heresy|dark ages',\n",
    "                   'games|game', 'delta green']\n",
    "\n",
    "    for wrd in banned_words:\n",
    "            tweet_text = re.sub(wrd, 'system_word', tweet_text, flags=re.I)\n",
    "    \n",
    "    return tweet_text"
   ]
  },
  {
   "cell_type": "markdown",
   "id": "6f9afcb9",
   "metadata": {},
   "source": [
    "Natural language functions definition"
   ]
  },
  {
   "cell_type": "code",
   "execution_count": 5,
   "id": "47f139b9",
   "metadata": {},
   "outputs": [],
   "source": [
    "def get_sentiment_analysis(tweets, natural_language_processor):\n",
    "    text_polarity = list()\n",
    "    text_subjectivity = list()\n",
    "    text_adjectives = list()\n",
    "\n",
    "    for tweet_text in list(tweets.loc[:, 'text_cleaned']):\n",
    "        text_sentiment = natural_language_processor(tweet_text)\n",
    "\n",
    "        text_polarity.append(text_sentiment._.blob.polarity)\n",
    "        text_subjectivity.append(text_sentiment._.blob.subjectivity)\n",
    "        \n",
    "        adjectives_list = get_sentence_adjectives(text_sentiment)\n",
    "        if adjectives_list:\n",
    "            adjectives_list = filter_adjectives(adjectives_list)\n",
    "        text_adjectives.append(adjectives_list)\n",
    "\n",
    "    tweets['polarity'] = text_polarity\n",
    "    tweets['subjectivity'] = text_subjectivity\n",
    "    tweets['adjectives'] = text_adjectives   \n",
    "    \n",
    "    return tweets\n",
    "\n",
    "def get_sentence_adjectives(text_sentiment):\n",
    "    result = list()\n",
    "    \n",
    "    for token in text_sentiment:\n",
    "        if(token.pos_ == 'ADJ'):\n",
    "            result.append(token.lemma_)\n",
    "    \n",
    "    result = [x.lower() for x in result]\n",
    "    return list(np.unique(result))"
   ]
  },
  {
   "cell_type": "code",
   "execution_count": 6,
   "id": "ede8c280",
   "metadata": {},
   "outputs": [],
   "source": [
    "def filter_adjectives(adjectives_list):\n",
    "    not_words = ['#', '*', '+', '-', 'd&amp;d.', '¿', '„']\n",
    "    not_adjectives = ['#ad', \"i've\", \"a’r\", \"c'\", 'co3', 'e', 'n1', 'uma', 'umut', 'unas', 'und', 'usó']\n",
    "    media_words = ['dnd', 'd100', 'ttrpg', 'ttrpgs', 'vtt']\n",
    "\n",
    "    filtered_adjectives = list()\n",
    "\n",
    "    for adjective in adjectives_list:\n",
    "        if(adjective in not_words):\n",
    "            continue\n",
    "        if(adjective[0].isnumeric()):\n",
    "            continue\n",
    "        if(adjective in not_adjectives):\n",
    "            continue\n",
    "        if(adjective in media_words):\n",
    "            continue\n",
    "        if(is_emoji(adjective)):\n",
    "            continue\n",
    "        filtered_adjectives.append(adjective)\n",
    "    \n",
    "    return filtered_adjectives\n",
    "\n",
    "def is_emoji(s):\n",
    "    n = emoji.emoji_count(s)\n",
    "    return n != 0"
   ]
  },
  {
   "cell_type": "markdown",
   "id": "1c779118",
   "metadata": {},
   "source": [
    "### Main code"
   ]
  },
  {
   "cell_type": "markdown",
   "id": "4f888d0e",
   "metadata": {},
   "source": [
    "Tweet extraction"
   ]
  },
  {
   "cell_type": "code",
   "execution_count": 7,
   "id": "8ba028db",
   "metadata": {},
   "outputs": [],
   "source": [
    "bearer_token = open(PATH_BEARER_TOKEN).readline()\n",
    "tweepy_client = tweepy.Client(bearer_token=bearer_token)"
   ]
  },
  {
   "cell_type": "code",
   "execution_count": 8,
   "id": "c2d19f18",
   "metadata": {},
   "outputs": [
    {
     "data": {
      "text/html": [
       "<div>\n",
       "<style scoped>\n",
       "    .dataframe tbody tr th:only-of-type {\n",
       "        vertical-align: middle;\n",
       "    }\n",
       "\n",
       "    .dataframe tbody tr th {\n",
       "        vertical-align: top;\n",
       "    }\n",
       "\n",
       "    .dataframe thead th {\n",
       "        text-align: right;\n",
       "    }\n",
       "</style>\n",
       "<table border=\"1\" class=\"dataframe\">\n",
       "  <thead>\n",
       "    <tr style=\"text-align: right;\">\n",
       "      <th></th>\n",
       "      <th>id</th>\n",
       "      <th>like_count</th>\n",
       "      <th>quote_count</th>\n",
       "      <th>reply_count</th>\n",
       "      <th>retweet_count</th>\n",
       "      <th>rpg_system</th>\n",
       "      <th>setting</th>\n",
       "      <th>text</th>\n",
       "    </tr>\n",
       "  </thead>\n",
       "  <tbody>\n",
       "    <tr>\n",
       "      <th>0</th>\n",
       "      <td>1607675836697825280</td>\n",
       "      <td>0.0</td>\n",
       "      <td>0.0</td>\n",
       "      <td>0.0</td>\n",
       "      <td>98.0</td>\n",
       "      <td>Call of Cthulhu</td>\n",
       "      <td>Lovecraft horror</td>\n",
       "      <td>RT @N_Kailow: CoC「口渇ルルパ」🍴🍷\\n\\n欲しい  足りない 貴方が欲しい...</td>\n",
       "    </tr>\n",
       "    <tr>\n",
       "      <th>1</th>\n",
       "      <td>1607675835582124033</td>\n",
       "      <td>0.0</td>\n",
       "      <td>0.0</td>\n",
       "      <td>0.0</td>\n",
       "      <td>1.0</td>\n",
       "      <td>Call of Cthulhu</td>\n",
       "      <td>Lovecraft horror</td>\n",
       "      <td>RT @Michelle_Rabi53: CoCシナリオ \\n“レイニービタースイートルーム...</td>\n",
       "    </tr>\n",
       "    <tr>\n",
       "      <th>2</th>\n",
       "      <td>1607675835028496387</td>\n",
       "      <td>0.0</td>\n",
       "      <td>0.0</td>\n",
       "      <td>0.0</td>\n",
       "      <td>867.0</td>\n",
       "      <td>Call of Cthulhu</td>\n",
       "      <td>Lovecraft horror</td>\n",
       "      <td>RT @sori_TRPG: 🌸CoC6版 ２PLシナリオ「刀狂双乱」🌸\\n「あなたたちは刀...</td>\n",
       "    </tr>\n",
       "    <tr>\n",
       "      <th>3</th>\n",
       "      <td>1607675805039198210</td>\n",
       "      <td>0.0</td>\n",
       "      <td>0.0</td>\n",
       "      <td>0.0</td>\n",
       "      <td>0.0</td>\n",
       "      <td>Call of Cthulhu</td>\n",
       "      <td>Lovecraft horror</td>\n",
       "      <td>CoC｢ようこそ！冥迷市役所都市伝説課へ！｣\\n来年1月に回ります！最高に素敵な合わせ立ち絵...</td>\n",
       "    </tr>\n",
       "    <tr>\n",
       "      <th>4</th>\n",
       "      <td>1607675793949487104</td>\n",
       "      <td>0.0</td>\n",
       "      <td>0.0</td>\n",
       "      <td>0.0</td>\n",
       "      <td>0.0</td>\n",
       "      <td>Call of Cthulhu</td>\n",
       "      <td>Lovecraft horror</td>\n",
       "      <td>Coc『 山羊の歌は謡えない 』\\n第3.5話 開幕の時はきたり\\n\\nお久しぶりのやぎうた...</td>\n",
       "    </tr>\n",
       "  </tbody>\n",
       "</table>\n",
       "</div>"
      ],
      "text/plain": [
       "                    id  like_count  quote_count  reply_count  retweet_count  \\\n",
       "0  1607675836697825280         0.0          0.0          0.0           98.0   \n",
       "1  1607675835582124033         0.0          0.0          0.0            1.0   \n",
       "2  1607675835028496387         0.0          0.0          0.0          867.0   \n",
       "3  1607675805039198210         0.0          0.0          0.0            0.0   \n",
       "4  1607675793949487104         0.0          0.0          0.0            0.0   \n",
       "\n",
       "        rpg_system           setting  \\\n",
       "0  Call of Cthulhu  Lovecraft horror   \n",
       "1  Call of Cthulhu  Lovecraft horror   \n",
       "2  Call of Cthulhu  Lovecraft horror   \n",
       "3  Call of Cthulhu  Lovecraft horror   \n",
       "4  Call of Cthulhu  Lovecraft horror   \n",
       "\n",
       "                                                text  \n",
       "0  RT @N_Kailow: CoC「口渇ルルパ」🍴🍷\\n\\n欲しい  足りない 貴方が欲しい...  \n",
       "1  RT @Michelle_Rabi53: CoCシナリオ \\n“レイニービタースイートルーム...  \n",
       "2  RT @sori_TRPG: 🌸CoC6版 ２PLシナリオ「刀狂双乱」🌸\\n「あなたたちは刀...  \n",
       "3  CoC｢ようこそ！冥迷市役所都市伝説課へ！｣\\n来年1月に回ります！最高に素敵な合わせ立ち絵...  \n",
       "4  Coc『 山羊の歌は謡えない 』\\n第3.5話 開幕の時はきたり\\n\\nお久しぶりのやぎうた...  "
      ]
     },
     "execution_count": 8,
     "metadata": {},
     "output_type": "execute_result"
    }
   ],
   "source": [
    "tweets = pd.DataFrame()\n",
    "\n",
    "for TTRPG_info in TTRPG_EXTRACTION_SPECIFICATIONS.iloc:\n",
    "    this_query = TTRPG_info['query'] + QUERY_SPECIFICATIONS\n",
    "    tweets_found = tweepy_client.search_recent_tweets(query=this_query,\n",
    "                                                      max_results=100,\n",
    "                                                      tweet_fields='public_metrics')\n",
    "    \n",
    "    tweets = tweets.append(tweet_list_to_DataFrame(tweets_found, TTRPG_info))\n",
    "\n",
    "tweets.reset_index(drop=True, inplace=True)\n",
    "tweets.head()"
   ]
  },
  {
   "cell_type": "markdown",
   "id": "6c199f18",
   "metadata": {},
   "source": [
    "Tweet processing"
   ]
  },
  {
   "cell_type": "code",
   "execution_count": 9,
   "id": "4213341e",
   "metadata": {},
   "outputs": [
    {
     "name": "stdout",
     "output_type": "stream",
     "text": [
      "Number of tweets: 4293\n",
      "Number of tweets: 2908\n"
     ]
    }
   ],
   "source": [
    "# Filter Retweets   ERASE IF USED WITH FULL QUERY\n",
    "print('Number of tweets: ' + str(tweets.shape[0]))\n",
    "tweets = tweets.loc[~tweets.text.str.startswith('RT ')]\n",
    "print('Number of tweets: ' + str(tweets.shape[0]))"
   ]
  },
  {
   "cell_type": "code",
   "execution_count": 10,
   "id": "b7b7c50d",
   "metadata": {},
   "outputs": [
    {
     "data": {
      "text/html": [
       "<div>\n",
       "<style scoped>\n",
       "    .dataframe tbody tr th:only-of-type {\n",
       "        vertical-align: middle;\n",
       "    }\n",
       "\n",
       "    .dataframe tbody tr th {\n",
       "        vertical-align: top;\n",
       "    }\n",
       "\n",
       "    .dataframe thead th {\n",
       "        text-align: right;\n",
       "    }\n",
       "</style>\n",
       "<table border=\"1\" class=\"dataframe\">\n",
       "  <thead>\n",
       "    <tr style=\"text-align: right;\">\n",
       "      <th></th>\n",
       "      <th>id</th>\n",
       "      <th>like_count</th>\n",
       "      <th>quote_count</th>\n",
       "      <th>reply_count</th>\n",
       "      <th>retweet_count</th>\n",
       "      <th>rpg_system</th>\n",
       "      <th>setting</th>\n",
       "      <th>text</th>\n",
       "      <th>text_cleaned</th>\n",
       "    </tr>\n",
       "  </thead>\n",
       "  <tbody>\n",
       "    <tr>\n",
       "      <th>3</th>\n",
       "      <td>1607675805039198210</td>\n",
       "      <td>0.0</td>\n",
       "      <td>0.0</td>\n",
       "      <td>0.0</td>\n",
       "      <td>0.0</td>\n",
       "      <td>Call of Cthulhu</td>\n",
       "      <td>Lovecraft horror</td>\n",
       "      <td>CoC｢ようこそ！冥迷市役所都市伝説課へ！｣\\n来年1月に回ります！最高に素敵な合わせ立ち絵...</td>\n",
       "      <td>CoC｢ようこそ！冥迷市役所都市伝説課へ！｣.来年1月に回ります！最高に素敵な合わせ立ち絵は...</td>\n",
       "    </tr>\n",
       "    <tr>\n",
       "      <th>4</th>\n",
       "      <td>1607675793949487104</td>\n",
       "      <td>0.0</td>\n",
       "      <td>0.0</td>\n",
       "      <td>0.0</td>\n",
       "      <td>0.0</td>\n",
       "      <td>Call of Cthulhu</td>\n",
       "      <td>Lovecraft horror</td>\n",
       "      <td>Coc『 山羊の歌は謡えない 』\\n第3.5話 開幕の時はきたり\\n\\nお久しぶりのやぎうた...</td>\n",
       "      <td>Coc『 山羊の歌は謡えない 』.第3.5話 開幕の時はきたり..お久しぶりのやぎうた！！！...</td>\n",
       "    </tr>\n",
       "    <tr>\n",
       "      <th>5</th>\n",
       "      <td>1607675793903345664</td>\n",
       "      <td>0.0</td>\n",
       "      <td>0.0</td>\n",
       "      <td>0.0</td>\n",
       "      <td>0.0</td>\n",
       "      <td>Call of Cthulhu</td>\n",
       "      <td>Lovecraft horror</td>\n",
       "      <td>@coc_kazuo そして落とし合いに巻き込まれていくと</td>\n",
       "      <td>mention_or_link そして落とし合いに巻き込まれていくと</td>\n",
       "    </tr>\n",
       "    <tr>\n",
       "      <th>8</th>\n",
       "      <td>1607675694213115904</td>\n",
       "      <td>1.0</td>\n",
       "      <td>0.0</td>\n",
       "      <td>0.0</td>\n",
       "      <td>1.0</td>\n",
       "      <td>Call of Cthulhu</td>\n",
       "      <td>Lovecraft horror</td>\n",
       "      <td>CoCシナリオ \\n“レイニービタースイートルーム”\\n\\nKPくぼはるさん(大智 心音)\\...</td>\n",
       "      <td>CoCシナリオ .“レイニービタースイートルーム”..KPくぼはるさん(大智 心音)..PL...</td>\n",
       "    </tr>\n",
       "    <tr>\n",
       "      <th>9</th>\n",
       "      <td>1607675690551496704</td>\n",
       "      <td>0.0</td>\n",
       "      <td>0.0</td>\n",
       "      <td>1.0</td>\n",
       "      <td>0.0</td>\n",
       "      <td>Call of Cthulhu</td>\n",
       "      <td>Lovecraft horror</td>\n",
       "      <td>웃긴건 한 사람만 남고 (이분은 coc 외 티알 자체를 접으심)\\n둘은 깨짐 사실 ...</td>\n",
       "      <td>웃긴건 한 사람만 남고 (이분은 coc 외 티알 자체를 접으심).둘은 깨짐 사실 하...</td>\n",
       "    </tr>\n",
       "  </tbody>\n",
       "</table>\n",
       "</div>"
      ],
      "text/plain": [
       "                    id  like_count  quote_count  reply_count  retweet_count  \\\n",
       "3  1607675805039198210         0.0          0.0          0.0            0.0   \n",
       "4  1607675793949487104         0.0          0.0          0.0            0.0   \n",
       "5  1607675793903345664         0.0          0.0          0.0            0.0   \n",
       "8  1607675694213115904         1.0          0.0          0.0            1.0   \n",
       "9  1607675690551496704         0.0          0.0          1.0            0.0   \n",
       "\n",
       "        rpg_system           setting  \\\n",
       "3  Call of Cthulhu  Lovecraft horror   \n",
       "4  Call of Cthulhu  Lovecraft horror   \n",
       "5  Call of Cthulhu  Lovecraft horror   \n",
       "8  Call of Cthulhu  Lovecraft horror   \n",
       "9  Call of Cthulhu  Lovecraft horror   \n",
       "\n",
       "                                                text  \\\n",
       "3  CoC｢ようこそ！冥迷市役所都市伝説課へ！｣\\n来年1月に回ります！最高に素敵な合わせ立ち絵...   \n",
       "4  Coc『 山羊の歌は謡えない 』\\n第3.5話 開幕の時はきたり\\n\\nお久しぶりのやぎうた...   \n",
       "5                      @coc_kazuo そして落とし合いに巻き込まれていくと   \n",
       "8  CoCシナリオ \\n“レイニービタースイートルーム”\\n\\nKPくぼはるさん(大智 心音)\\...   \n",
       "9  웃긴건 한 사람만 남고 (이분은 coc 외 티알 자체를 접으심)\\n둘은 깨짐 사실 ...   \n",
       "\n",
       "                                        text_cleaned  \n",
       "3  CoC｢ようこそ！冥迷市役所都市伝説課へ！｣.来年1月に回ります！最高に素敵な合わせ立ち絵は...  \n",
       "4  Coc『 山羊の歌は謡えない 』.第3.5話 開幕の時はきたり..お久しぶりのやぎうた！！！...  \n",
       "5                 mention_or_link そして落とし合いに巻き込まれていくと  \n",
       "8  CoCシナリオ .“レイニービタースイートルーム”..KPくぼはるさん(大智 心音)..PL...  \n",
       "9  웃긴건 한 사람만 남고 (이분은 coc 외 티알 자체를 접으심).둘은 깨짐 사실 하...  "
      ]
     },
     "execution_count": 10,
     "metadata": {},
     "output_type": "execute_result"
    }
   ],
   "source": [
    "text_cleaned = [clean_tweet_text(tweet_text) for tweet_text in tweets['text']]\n",
    "tweets['text_cleaned'] = text_cleaned\n",
    "tweets.head()"
   ]
  },
  {
   "cell_type": "markdown",
   "id": "6af83d92",
   "metadata": {},
   "source": [
    "Natural language processing"
   ]
  },
  {
   "cell_type": "code",
   "execution_count": 11,
   "id": "3ecc14e6",
   "metadata": {},
   "outputs": [
    {
     "data": {
      "text/plain": [
       "<spacytextblob.spacytextblob.SpacyTextBlob at 0x1f508fb5490>"
      ]
     },
     "execution_count": 11,
     "metadata": {},
     "output_type": "execute_result"
    }
   ],
   "source": [
    "natural_language_processor = spacy.load('en_core_web_sm')\n",
    "natural_language_processor.add_pipe('spacytextblob')"
   ]
  },
  {
   "cell_type": "code",
   "execution_count": 12,
   "id": "60e88c66",
   "metadata": {},
   "outputs": [],
   "source": [
    "tweets = get_sentiment_analysis(tweets, natural_language_processor)"
   ]
  },
  {
   "cell_type": "markdown",
   "id": "12af4a2f",
   "metadata": {},
   "source": [
    "Export"
   ]
  },
  {
   "cell_type": "code",
   "execution_count": 13,
   "id": "7a64a38d",
   "metadata": {},
   "outputs": [],
   "source": [
    "tweets.to_json(PATH_RESULTING_JSON, orient='index', double_precision=2)"
   ]
  }
 ],
 "metadata": {
  "kernelspec": {
   "display_name": "Python 3",
   "language": "python",
   "name": "python3"
  },
  "language_info": {
   "codemirror_mode": {
    "name": "ipython",
    "version": 3
   },
   "file_extension": ".py",
   "mimetype": "text/x-python",
   "name": "python",
   "nbconvert_exporter": "python",
   "pygments_lexer": "ipython3",
   "version": "3.8.8"
  }
 },
 "nbformat": 4,
 "nbformat_minor": 5
}
